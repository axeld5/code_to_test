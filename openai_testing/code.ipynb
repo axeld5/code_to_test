{
 "cells": [
  {
   "cell_type": "code",
   "execution_count": 1,
   "metadata": {},
   "outputs": [],
   "source": [
    "def add(a, b):\n",
    "    return a+b"
   ]
  },
  {
   "cell_type": "code",
   "execution_count": 2,
   "metadata": {},
   "outputs": [],
   "source": [
    "import yaml\n",
    "\n",
    "with open('config.yml', 'r') as file:\n",
    "    config = yaml.safe_load(file)\n",
    "openai_key = config[\"openai_key\"]"
   ]
  },
  {
   "cell_type": "code",
   "execution_count": 3,
   "metadata": {},
   "outputs": [],
   "source": [
    "from openai_code import explain_code, generate_inputs, generate_unittest"
   ]
  },
  {
   "cell_type": "code",
   "execution_count": 5,
   "metadata": {},
   "outputs": [],
   "source": [
    "code = \"\"\"def add(a, b): return a+b\"\"\"\n",
    "code_explanation = explain_code(code, openai_key)\n",
    "inputs = generate_inputs(code, openai_key)\n",
    "unittest = generate_unittest(code, code_explanation, inputs, openai_key)"
   ]
  },
  {
   "cell_type": "code",
   "execution_count": 6,
   "metadata": {},
   "outputs": [
    {
     "name": "stdout",
     "output_type": "stream",
     "text": [
      "This code defines a function called `add` that takes two parameters `a` and `b`, and returns the sum of `a` and `b`. The function simply adds the two input parameters together using the `+` operator and returns the result.\n",
      "a=3, b=7\n",
      "import unittest\n",
      "\n",
      "class TestAddFunction(unittest.TestCase):\n",
      "\n",
      "    def test_add(self):\n",
      "        self.assertEqual(add(3, 7), 10)\n"
     ]
    }
   ],
   "source": [
    "print(code_explanation)\n",
    "print(inputs)\n",
    "print(unittest)"
   ]
  },
  {
   "cell_type": "code",
   "execution_count": 7,
   "metadata": {},
   "outputs": [],
   "source": [
    "import unittest\n",
    "\n",
    "class TestAddFunction(unittest.TestCase):\n",
    "\n",
    "    def test_add(self):\n",
    "        self.assertEqual(add(3, 7), 10)"
   ]
  },
  {
   "cell_type": "code",
   "execution_count": 8,
   "metadata": {},
   "outputs": [],
   "source": [
    "TestAddFunction().test_add()"
   ]
  },
  {
   "cell_type": "code",
   "execution_count": null,
   "metadata": {},
   "outputs": [],
   "source": []
  }
 ],
 "metadata": {
  "kernelspec": {
   "display_name": "Python 3",
   "language": "python",
   "name": "python3"
  },
  "language_info": {
   "codemirror_mode": {
    "name": "ipython",
    "version": 3
   },
   "file_extension": ".py",
   "mimetype": "text/x-python",
   "name": "python",
   "nbconvert_exporter": "python",
   "pygments_lexer": "ipython3",
   "version": "3.10.4"
  }
 },
 "nbformat": 4,
 "nbformat_minor": 2
}

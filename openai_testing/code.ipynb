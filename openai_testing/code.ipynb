{
 "cells": [
  {
   "cell_type": "code",
   "execution_count": 18,
   "metadata": {},
   "outputs": [],
   "source": [
    "def add(a, b):\n",
    "    return a+b"
   ]
  },
  {
   "cell_type": "code",
   "execution_count": 19,
   "metadata": {},
   "outputs": [],
   "source": [
    "import yaml\n",
    "\n",
    "with open('config.yml', 'r') as file:\n",
    "    config = yaml.safe_load(file)\n",
    "openai_key = config[\"openai_key\"]"
   ]
  },
  {
   "cell_type": "code",
   "execution_count": 20,
   "metadata": {},
   "outputs": [],
   "source": [
    "from openai_code import explain_code, generate_inputs, generate_unittest"
   ]
  },
  {
   "cell_type": "code",
   "execution_count": 21,
   "metadata": {},
   "outputs": [],
   "source": [
    "code = \"\"\"def add(a, b): return a+b\"\"\"\n",
    "code_explanation = explain_code(code, openai_key)\n",
    "inputs = generate_inputs(code, code_explanation, openai_key)\n",
    "unittest = generate_unittest(code, code_explanation, inputs, openai_key)"
   ]
  },
  {
   "cell_type": "code",
   "execution_count": 22,
   "metadata": {},
   "outputs": [
    {
     "name": "stdout",
     "output_type": "stream",
     "text": [
      "This code defines a function called \"add\" that takes two parameters, \"a\" and \"b\". Inside the function, it adds the two parameters together using the \"+\" operator and returns the result. This function can be used to add two numbers together by passing them as arguments when calling the function.\n",
      "a, b\n",
      "import unittest\n",
      "\n",
      "class TestAddFunction(unittest.TestCase):\n",
      "    \n",
      "    def test_add(self):\n",
      "        self.assertEqual(add(1, 2), 3)\n",
      "        self.assertEqual(add(-1, 1), 0)\n",
      "        self.assertEqual(add(0, 0), 0)\n",
      "        self.assertEqual(add(-1, -1), -2)\n"
     ]
    }
   ],
   "source": [
    "print(code_explanation)\n",
    "print(inputs)\n",
    "print(unittest)"
   ]
  },
  {
   "cell_type": "code",
   "execution_count": 23,
   "metadata": {},
   "outputs": [],
   "source": [
    "import unittest\n",
    "\n",
    "class TestAddFunction(unittest.TestCase):\n",
    "    \n",
    "    def test_add(self):\n",
    "        self.assertEqual(add(1, 2), 3)\n",
    "        self.assertEqual(add(-1, 1), 0)\n",
    "        self.assertEqual(add(0, 0), 0)\n",
    "        self.assertEqual(add(-1, -1), -2)"
   ]
  },
  {
   "cell_type": "code",
   "execution_count": 25,
   "metadata": {},
   "outputs": [],
   "source": [
    "TestAddFunction().test_add()"
   ]
  },
  {
   "cell_type": "code",
   "execution_count": null,
   "metadata": {},
   "outputs": [],
   "source": []
  }
 ],
 "metadata": {
  "kernelspec": {
   "display_name": "Python 3",
   "language": "python",
   "name": "python3"
  },
  "language_info": {
   "codemirror_mode": {
    "name": "ipython",
    "version": 3
   },
   "file_extension": ".py",
   "mimetype": "text/x-python",
   "name": "python",
   "nbconvert_exporter": "python",
   "pygments_lexer": "ipython3",
   "version": "3.10.4"
  }
 },
 "nbformat": 4,
 "nbformat_minor": 2
}

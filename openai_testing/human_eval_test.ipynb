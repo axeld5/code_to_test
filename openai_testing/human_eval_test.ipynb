{
 "cells": [
  {
   "cell_type": "code",
   "execution_count": 1,
   "metadata": {},
   "outputs": [],
   "source": [
    "from datasets import load_dataset\n",
    "dataset = load_dataset(\"openai_humaneval\")"
   ]
  },
  {
   "cell_type": "code",
   "execution_count": 2,
   "metadata": {},
   "outputs": [],
   "source": [
    "infos = dataset[\"test\"]\n",
    "function_defs = infos[\"prompt\"]\n",
    "function_sols = infos[\"canonical_solution\"]"
   ]
  },
  {
   "cell_type": "code",
   "execution_count": 3,
   "metadata": {},
   "outputs": [],
   "source": [
    "full_code_list = [\"\"]*len(function_defs)\n",
    "for i, (function_def, function_sol) in enumerate(zip(function_defs, function_sols)):\n",
    "    full_function = function_def.split('    \"\"\"')[0] + function_sol\n",
    "    full_code_list[i] = full_function"
   ]
  },
  {
   "cell_type": "code",
   "execution_count": 4,
   "metadata": {},
   "outputs": [],
   "source": [
    "from openai_code import explain_code, generate_inputs, generate_unittest_advanced\n",
    "\n",
    "import yaml\n",
    "\n",
    "with open('config.yml', 'r') as file:\n",
    "    config = yaml.safe_load(file)\n",
    "openai_key = config[\"openai_key\"]"
   ]
  },
  {
   "cell_type": "code",
   "execution_count": 12,
   "metadata": {},
   "outputs": [
    {
     "name": "stdout",
     "output_type": "stream",
     "text": [
      "from typing import List\n",
      "\n",
      "\n",
      "def separate_paren_groups(paren_string: str) -> List[str]:\n",
      "    result = []\n",
      "    current_string = []\n",
      "    current_depth = 0\n",
      "\n",
      "    for c in paren_string:\n",
      "        if c == '(':\n",
      "            current_depth += 1\n",
      "            current_string.append(c)\n",
      "        elif c == ')':\n",
      "            current_depth -= 1\n",
      "            current_string.append(c)\n",
      "\n",
      "            if current_depth == 0:\n",
      "                result.append(''.join(current_string))\n",
      "                current_string.clear()\n",
      "\n",
      "    return result\n",
      "\n"
     ]
    }
   ],
   "source": [
    "code = full_code_list[1]\n",
    "print(code)"
   ]
  },
  {
   "cell_type": "code",
   "execution_count": 13,
   "metadata": {},
   "outputs": [],
   "source": [
    "code_explanation = explain_code(code, openai_key)\n",
    "input_list = generate_inputs(code, code_explanation, openai_key)"
   ]
  },
  {
   "cell_type": "code",
   "execution_count": 14,
   "metadata": {},
   "outputs": [
    {
     "name": "stdout",
     "output_type": "stream",
     "text": [
      "['(a(b)c)', '(a(b(c)d)e)', '(a(b(c)d)e(f)g)', '(a)', '(a(b))']\n"
     ]
    }
   ],
   "source": [
    "print(eval(input_list))"
   ]
  },
  {
   "cell_type": "code",
   "execution_count": 22,
   "metadata": {},
   "outputs": [],
   "source": [
    "def execute_function_from_string(func_string, *args, **kwargs):\n",
    "    # Execute the function definition in the current scope\n",
    "    exec(func_string)\n",
    "\n",
    "    # Get the function from locals    \n",
    "    start_index = func_string.find(\"def \")\n",
    "    end_index = func_string.find(\"(\")\n",
    "    if start_index == -1 or end_index == -1:\n",
    "        raise ValueError(\"No function definition found in the provided string.\")\n",
    "\n",
    "    # Extract the function definition substring\n",
    "    function_definition = func_string[start_index:end_index]\n",
    "    function_name = function_definition.split(\"(\")[0][4:]\n",
    "    function_to_call = locals().get(function_name)\n",
    "\n",
    "    # Check if the function exists\n",
    "    if function_to_call is not None:\n",
    "        # Call the function with arguments and return the result\n",
    "        return function_to_call(*args, **kwargs)\n",
    "    else:\n",
    "        raise ValueError(\"No function named 'function' found in the provided string.\")"
   ]
  },
  {
   "cell_type": "code",
   "execution_count": 23,
   "metadata": {},
   "outputs": [
    {
     "name": "stdout",
     "output_type": "stream",
     "text": [
      "separate_paren_groups\n"
     ]
    },
    {
     "ename": "TypeError",
     "evalue": "separate_paren_groups() takes 1 positional argument but 7 were given",
     "output_type": "error",
     "traceback": [
      "\u001b[1;31m---------------------------------------------------------------------------\u001b[0m",
      "\u001b[1;31mTypeError\u001b[0m                                 Traceback (most recent call last)",
      "Cell \u001b[1;32mIn [23], line 3\u001b[0m\n\u001b[0;32m      1\u001b[0m output_list \u001b[38;5;241m=\u001b[39m [\u001b[38;5;241m0\u001b[39m]\u001b[38;5;241m*\u001b[39m\u001b[38;5;28mlen\u001b[39m(\u001b[38;5;28meval\u001b[39m(input_list))\n\u001b[0;32m      2\u001b[0m \u001b[38;5;28;01mfor\u001b[39;00m i, \u001b[38;5;28minput\u001b[39m \u001b[38;5;129;01min\u001b[39;00m \u001b[38;5;28menumerate\u001b[39m(\u001b[38;5;28meval\u001b[39m(input_list)):\n\u001b[1;32m----> 3\u001b[0m     output_list[i] \u001b[38;5;241m=\u001b[39m \u001b[43mexecute_function_from_string\u001b[49m\u001b[43m(\u001b[49m\u001b[43mcode\u001b[49m\u001b[43m,\u001b[49m\u001b[43m \u001b[49m\u001b[38;5;241;43m*\u001b[39;49m\u001b[38;5;28;43minput\u001b[39;49m\u001b[43m)\u001b[49m\n",
      "Cell \u001b[1;32mIn [22], line 20\u001b[0m, in \u001b[0;36mexecute_function_from_string\u001b[1;34m(func_string, *args, **kwargs)\u001b[0m\n\u001b[0;32m     17\u001b[0m \u001b[38;5;66;03m# Check if the function exists\u001b[39;00m\n\u001b[0;32m     18\u001b[0m \u001b[38;5;28;01mif\u001b[39;00m function_to_call \u001b[38;5;129;01mis\u001b[39;00m \u001b[38;5;129;01mnot\u001b[39;00m \u001b[38;5;28;01mNone\u001b[39;00m:\n\u001b[0;32m     19\u001b[0m     \u001b[38;5;66;03m# Call the function with arguments and return the result\u001b[39;00m\n\u001b[1;32m---> 20\u001b[0m     \u001b[38;5;28;01mreturn\u001b[39;00m function_to_call(\u001b[38;5;241m*\u001b[39margs, \u001b[38;5;241m*\u001b[39m\u001b[38;5;241m*\u001b[39mkwargs)\n\u001b[0;32m     21\u001b[0m \u001b[38;5;28;01melse\u001b[39;00m:\n\u001b[0;32m     22\u001b[0m     \u001b[38;5;28;01mraise\u001b[39;00m \u001b[38;5;167;01mValueError\u001b[39;00m(\u001b[38;5;124m\"\u001b[39m\u001b[38;5;124mNo function named \u001b[39m\u001b[38;5;124m'\u001b[39m\u001b[38;5;124mfunction\u001b[39m\u001b[38;5;124m'\u001b[39m\u001b[38;5;124m found in the provided string.\u001b[39m\u001b[38;5;124m\"\u001b[39m)\n",
      "\u001b[1;31mTypeError\u001b[0m: separate_paren_groups() takes 1 positional argument but 7 were given"
     ]
    }
   ],
   "source": [
    "output_list = [0]*len(eval(input_list))\n",
    "for i, input in enumerate(eval(input_list)):\n",
    "    output_list[i] = execute_function_from_string(code, *input)"
   ]
  },
  {
   "cell_type": "code",
   "execution_count": 17,
   "metadata": {},
   "outputs": [
    {
     "name": "stdout",
     "output_type": "stream",
     "text": [
      "[0, 0, 0, 0, 0]\n"
     ]
    }
   ],
   "source": [
    "print(output_list)"
   ]
  },
  {
   "cell_type": "code",
   "execution_count": 11,
   "metadata": {},
   "outputs": [
    {
     "name": "stdout",
     "output_type": "stream",
     "text": [
      "import unittest\n",
      "\n",
      "class TestHasCloseElements(unittest.TestCase):\n",
      "\n",
      "    def test_has_close_elements_false(self):\n",
      "        self.assertEqual(has_close_elements([1.0, 2.0, 3.0], 0.5), False)\n",
      "        self.assertEqual(has_close_elements([0.1, 0.2, 0.3, 0.4], 0.05), False)\n",
      "        self.assertEqual(has_close_elements([100.0, 105.0, 110.0], 1.0), False)\n",
      "\n",
      "    def test_has_close_elements_true(self):\n",
      "        self.assertEqual(has_close_elements([10.5, 15.2, 20.7], 5.0), True)\n",
      "        self.assertEqual(has_close_elements([-5.0, -3.0, 0.0, 2.0], 2.5), True)\n",
      "\n",
      "if __name__ == '__main__':\n",
      "    unittest.main()\n"
     ]
    }
   ],
   "source": [
    "unittest = generate_unittest_advanced(code, code_explanation, input_list, output_list, openai_key)\n",
    "print(unittest)"
   ]
  },
  {
   "cell_type": "code",
   "execution_count": null,
   "metadata": {},
   "outputs": [],
   "source": []
  }
 ],
 "metadata": {
  "kernelspec": {
   "display_name": "Python 3",
   "language": "python",
   "name": "python3"
  },
  "language_info": {
   "codemirror_mode": {
    "name": "ipython",
    "version": 3
   },
   "file_extension": ".py",
   "mimetype": "text/x-python",
   "name": "python",
   "nbconvert_exporter": "python",
   "pygments_lexer": "ipython3",
   "version": "3.10.4"
  }
 },
 "nbformat": 4,
 "nbformat_minor": 2
}

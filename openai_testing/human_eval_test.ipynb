{
 "cells": [
  {
   "cell_type": "code",
   "execution_count": 14,
   "metadata": {},
   "outputs": [],
   "source": [
    "from datasets import load_dataset\n",
    "dataset = load_dataset(\"openai_humaneval\")"
   ]
  },
  {
   "cell_type": "code",
   "execution_count": 15,
   "metadata": {},
   "outputs": [],
   "source": [
    "infos = dataset[\"test\"]\n",
    "function_defs = infos[\"prompt\"]\n",
    "function_sols = infos[\"canonical_solution\"]"
   ]
  },
  {
   "cell_type": "code",
   "execution_count": 16,
   "metadata": {},
   "outputs": [],
   "source": [
    "full_code_list = [\"\"]*len(function_defs)\n",
    "for i, (function_def, function_sol) in enumerate(zip(function_defs, function_sols)):\n",
    "    full_function = function_def.split('    \"\"\"')[0] + function_sol\n",
    "    full_code_list[i] = full_function"
   ]
  },
  {
   "cell_type": "code",
   "execution_count": 17,
   "metadata": {},
   "outputs": [],
   "source": [
    "from openai_code import explain_code, generate_inputs, generate_unittest_advanced\n",
    "\n",
    "import yaml\n",
    "\n",
    "with open('config.yml', 'r') as file:\n",
    "    config = yaml.safe_load(file)\n",
    "openai_key = config[\"openai_key\"]"
   ]
  },
  {
   "cell_type": "code",
   "execution_count": 38,
   "metadata": {},
   "outputs": [
    {
     "name": "stdout",
     "output_type": "stream",
     "text": [
      "from typing import List\n",
      "\n",
      "\n",
      "def parse_nested_parens(paren_string: str) -> List[int]:\n",
      "    def parse_paren_group(s):\n",
      "        depth = 0\n",
      "        max_depth = 0\n",
      "        for c in s:\n",
      "            if c == '(':\n",
      "                depth += 1\n",
      "                max_depth = max(depth, max_depth)\n",
      "            else:\n",
      "                depth -= 1\n",
      "\n",
      "        return max_depth\n",
      "\n",
      "    return [parse_paren_group(x) for x in paren_string.split(' ') if x]\n",
      "\n"
     ]
    }
   ],
   "source": [
    "code = full_code_list[6]\n",
    "print(code)"
   ]
  },
  {
   "cell_type": "code",
   "execution_count": 29,
   "metadata": {},
   "outputs": [],
   "source": [
    "from typing import List\n",
    "\n",
    "\n",
    "def separate_paren_groups(paren_string: str) -> List[str]:\n",
    "    result = []\n",
    "    current_string = []\n",
    "    current_depth = 0\n",
    "\n",
    "    for c in paren_string:\n",
    "        if c == '(':\n",
    "            current_depth += 1\n",
    "            current_string.append(c)\n",
    "        elif c == ')':\n",
    "            current_depth -= 1\n",
    "            current_string.append(c)\n",
    "\n",
    "            if current_depth == 0:\n",
    "                result.append(''.join(current_string))\n",
    "                current_string.clear()\n",
    "\n",
    "    return result"
   ]
  },
  {
   "cell_type": "code",
   "execution_count": 30,
   "metadata": {},
   "outputs": [],
   "source": [
    "code_explanation = explain_code(code, openai_key)\n",
    "input_list = generate_inputs(code, code_explanation, openai_key)"
   ]
  },
  {
   "cell_type": "code",
   "execution_count": 33,
   "metadata": {},
   "outputs": [
    {
     "name": "stdout",
     "output_type": "stream",
     "text": [
      "[([], 5), ([1, 2, 3, 4], 0), ([10, 20, 30, 40, 50], -1), ([100, 200, 300], 999), ([-5, -10, -15, -20], -100)]\n"
     ]
    }
   ],
   "source": [
    "print(eval(input_list))"
   ]
  },
  {
   "cell_type": "code",
   "execution_count": 34,
   "metadata": {},
   "outputs": [],
   "source": [
    "def execute_function_from_string(func_string, *args, **kwargs):\n",
    "    # Execute the function definition in the current scope\n",
    "    exec(func_string)\n",
    "\n",
    "    # Get the function from locals    \n",
    "    start_index = func_string.find(\"def \")\n",
    "    end_index = func_string.find(\"(\")\n",
    "    if start_index == -1 or end_index == -1:\n",
    "        raise ValueError(\"No function definition found in the provided string.\")\n",
    "\n",
    "    # Extract the function definition substring\n",
    "    function_definition = func_string[start_index:end_index]\n",
    "    function_name = function_definition.split(\"(\")[0][4:]\n",
    "    function_to_call = locals().get(function_name)\n",
    "\n",
    "    # Check if the function exists\n",
    "    if function_to_call is not None:\n",
    "        # Call the function with arguments and return the result\n",
    "        return function_to_call(*args, **kwargs)\n",
    "    else:\n",
    "        raise ValueError(\"No function named 'function' found in the provided string.\")"
   ]
  },
  {
   "cell_type": "code",
   "execution_count": 35,
   "metadata": {},
   "outputs": [],
   "source": [
    "output_list = [0]*len(eval(input_list))\n",
    "for i, input in enumerate(eval(input_list)):\n",
    "    if type(input) in [tuple, list]:\n",
    "        output_list[i] = execute_function_from_string(code, *input)\n",
    "    else:\n",
    "        output_list[i] = execute_function_from_string(code, input)"
   ]
  },
  {
   "cell_type": "code",
   "execution_count": 36,
   "metadata": {},
   "outputs": [
    {
     "name": "stdout",
     "output_type": "stream",
     "text": [
      "[[], [1, 0, 2, 0, 3, 0, 4], [10, -1, 20, -1, 30, -1, 40, -1, 50], [100, 999, 200, 999, 300], [-5, -100, -10, -100, -15, -100, -20]]\n"
     ]
    }
   ],
   "source": [
    "print(output_list)"
   ]
  },
  {
   "cell_type": "code",
   "execution_count": 37,
   "metadata": {},
   "outputs": [
    {
     "name": "stdout",
     "output_type": "stream",
     "text": [
      "import unittest\n",
      "from typing import List\n",
      "\n",
      "def intersperse(numbers: List[int], delimeter: int) -> List[int]:\n",
      "    if not numbers:\n",
      "        return []\n",
      "\n",
      "    result = []\n",
      "\n",
      "    for n in numbers[:-1]:\n",
      "        result.append(n)\n",
      "        result.append(delimeter)\n",
      "\n",
      "    result.append(numbers[-1])\n",
      "\n",
      "    return result\n",
      "\n",
      "class TestIntersperse(unittest.TestCase):\n",
      "\n",
      "    def test_empty_list(self):\n",
      "        self.assertEqual(intersperse([], 5), [])\n",
      "\n",
      "    def test_positive_numbers(self):\n",
      "        self.assertEqual(intersperse([1, 2, 3, 4], 0), [1, 0, 2, 0, 3, 0, 4])\n",
      "\n",
      "    def test_positive_numbers_with_negative_delimiter(self):\n",
      "        self.assertEqual(intersperse([10, 20, 30, 40, 50], -1), [10, -1, 20, -1, 30, -1, 40, -1, 50])\n",
      "\n",
      "    def test_large_numbers_with_large_delimiter(self):\n",
      "        self.assertEqual(intersperse([100, 200, 300], 999), [100, 999, 200, 999, 300])\n",
      "\n",
      "    def test_negative_numbers_with_negative_delimiter(self):\n",
      "        self.assertEqual(intersperse([-5, -10, -15, -20], -100), [-5, -100, -10, -100, -15, -100, -20])\n",
      "\n",
      "if __name__ == '__main__':\n",
      "    unittest.main()\n"
     ]
    }
   ],
   "source": [
    "unittest = generate_unittest_advanced(code, code_explanation, input_list, output_list, openai_key)\n",
    "print(unittest)"
   ]
  },
  {
   "cell_type": "code",
   "execution_count": 26,
   "metadata": {},
   "outputs": [
    {
     "name": "stdout",
     "output_type": "stream",
     "text": [
      "Python code has been written to 'my_code.py'\n"
     ]
    }
   ],
   "source": [
    "file_name = \"my_code.py\"\n",
    "with open(file_name, \"w\") as file:\n",
    "    file.write(unittest)\n",
    "\n",
    "print(f\"Python code has been written to '{file_name}'\")"
   ]
  },
  {
   "cell_type": "code",
   "execution_count": null,
   "metadata": {},
   "outputs": [],
   "source": []
  }
 ],
 "metadata": {
  "kernelspec": {
   "display_name": "Python 3",
   "language": "python",
   "name": "python3"
  },
  "language_info": {
   "codemirror_mode": {
    "name": "ipython",
    "version": 3
   },
   "file_extension": ".py",
   "mimetype": "text/x-python",
   "name": "python",
   "nbconvert_exporter": "python",
   "pygments_lexer": "ipython3",
   "version": "3.10.4"
  }
 },
 "nbformat": 4,
 "nbformat_minor": 2
}

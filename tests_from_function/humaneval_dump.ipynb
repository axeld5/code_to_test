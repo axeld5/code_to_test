{
 "cells": [
  {
   "cell_type": "code",
   "execution_count": 1,
   "metadata": {},
   "outputs": [],
   "source": [
    "from datasets import load_dataset\n",
    "dataset = load_dataset(\"openai_humaneval\")"
   ]
  },
  {
   "cell_type": "code",
   "execution_count": 2,
   "metadata": {},
   "outputs": [],
   "source": [
    "infos = dataset[\"test\"]\n",
    "function_defs = infos[\"prompt\"]\n",
    "function_sols = infos[\"canonical_solution\"]"
   ]
  },
  {
   "cell_type": "code",
   "execution_count": 3,
   "metadata": {},
   "outputs": [],
   "source": [
    "full_code_list = [\"\"]*len(function_defs)\n",
    "for i, (function_def, function_sol) in enumerate(zip(function_defs, function_sols)):\n",
    "    full_function = function_def.split('    \"\"\"')[0] + function_sol\n",
    "    full_code_list[i] = full_function"
   ]
  },
  {
   "cell_type": "code",
   "execution_count": 4,
   "metadata": {},
   "outputs": [
    {
     "name": "stdout",
     "output_type": "stream",
     "text": [
      "from typing import List\n",
      "\n",
      "\n",
      "def has_close_elements(numbers: List[float], threshold: float) -> bool:\n",
      "    for idx, elem in enumerate(numbers):\n",
      "        for idx2, elem2 in enumerate(numbers):\n",
      "            if idx != idx2:\n",
      "                distance = abs(elem - elem2)\n",
      "                if distance < threshold:\n",
      "                    return True\n",
      "\n",
      "    return False\n",
      " \n",
      "from typing import List\n",
      "\n",
      "\n",
      "def separate_paren_groups(paren_string: str) -> List[str]:\n",
      "    result = []\n",
      "    current_string = []\n",
      "    current_depth = 0\n",
      "\n",
      "    for c in paren_string:\n",
      "        if c == '(':\n",
      "            current_depth += 1\n",
      "            current_string.append(c)\n",
      "        elif c == ')':\n",
      "            current_depth -= 1\n",
      "            current_string.append(c)\n",
      "\n",
      "            if current_depth == 0:\n",
      "                result.append(''.join(current_string))\n",
      "                current_string.clear()\n",
      "\n",
      "    return result\n",
      " \n",
      "\n",
      "\n",
      "def truncate_number(number: float) -> float:\n",
      "    return number % 1.0\n",
      " \n",
      "from typing import List\n",
      "\n",
      "\n",
      "def below_zero(operations: List[int]) -> bool:\n",
      "    balance = 0\n",
      "\n",
      "    for op in operations:\n",
      "        balance += op\n",
      "        if balance < 0:\n",
      "            return True\n",
      "\n",
      "    return False\n",
      " \n",
      "from typing import List\n",
      "\n",
      "\n",
      "def mean_absolute_deviation(numbers: List[float]) -> float:\n",
      "    mean = sum(numbers) / len(numbers)\n",
      "    return sum(abs(x - mean) for x in numbers) / len(numbers)\n",
      " \n",
      "from typing import List\n",
      "\n",
      "\n",
      "def intersperse(numbers: List[int], delimeter: int) -> List[int]:\n",
      "    if not numbers:\n",
      "        return []\n",
      "\n",
      "    result = []\n",
      "\n",
      "    for n in numbers[:-1]:\n",
      "        result.append(n)\n",
      "        result.append(delimeter)\n",
      "\n",
      "    result.append(numbers[-1])\n",
      "\n",
      "    return result\n",
      " \n",
      "from typing import List\n",
      "\n",
      "\n",
      "def parse_nested_parens(paren_string: str) -> List[int]:\n",
      "    def parse_paren_group(s):\n",
      "        depth = 0\n",
      "        max_depth = 0\n",
      "        for c in s:\n",
      "            if c == '(':\n",
      "                depth += 1\n",
      "                max_depth = max(depth, max_depth)\n",
      "            else:\n",
      "                depth -= 1\n",
      "\n",
      "        return max_depth\n",
      "\n",
      "    return [parse_paren_group(x) for x in paren_string.split(' ') if x]\n",
      " \n",
      "from typing import List\n",
      "\n",
      "\n",
      "def filter_by_substring(strings: List[str], substring: str) -> List[str]:\n",
      "    return [x for x in strings if substring in x]\n",
      " \n",
      "from typing import List, Tuple\n",
      "\n",
      "\n",
      "def sum_product(numbers: List[int]) -> Tuple[int, int]:\n",
      "    sum_value = 0\n",
      "    prod_value = 1\n",
      "\n",
      "    for n in numbers:\n",
      "        sum_value += n\n",
      "        prod_value *= n\n",
      "    return sum_value, prod_value\n",
      " \n",
      "from typing import List, Tuple\n",
      "\n",
      "\n",
      "def rolling_max(numbers: List[int]) -> List[int]:\n",
      "    running_max = None\n",
      "    result = []\n",
      "\n",
      "    for n in numbers:\n",
      "        if running_max is None:\n",
      "            running_max = n\n",
      "        else:\n",
      "            running_max = max(running_max, n)\n",
      "\n",
      "        result.append(running_max)\n",
      "\n",
      "    return result\n",
      "\n"
     ]
    }
   ],
   "source": [
    "code_string = \" \\n\".join(full_code_list[:10])\n",
    "print(code_string)"
   ]
  },
  {
   "cell_type": "code",
   "execution_count": 5,
   "metadata": {},
   "outputs": [
    {
     "name": "stdout",
     "output_type": "stream",
     "text": [
      "Python code has been written to 'my_code.py'\n"
     ]
    }
   ],
   "source": [
    "file_name = \"my_code.py\"\n",
    "with open(file_name, \"w\") as file:\n",
    "    file.write(code_string)\n",
    "\n",
    "print(f\"Python code has been written to '{file_name}'\")"
   ]
  }
 ],
 "metadata": {
  "kernelspec": {
   "display_name": "Python 3",
   "language": "python",
   "name": "python3"
  },
  "language_info": {
   "codemirror_mode": {
    "name": "ipython",
    "version": 3
   },
   "file_extension": ".py",
   "mimetype": "text/x-python",
   "name": "python",
   "nbconvert_exporter": "python",
   "pygments_lexer": "ipython3",
   "version": "3.10.4"
  }
 },
 "nbformat": 4,
 "nbformat_minor": 2
}
